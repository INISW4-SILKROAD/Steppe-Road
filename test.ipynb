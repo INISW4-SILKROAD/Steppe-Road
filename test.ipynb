{
 "cells": [
  {
   "cell_type": "code",
   "execution_count": null,
   "metadata": {},
   "outputs": [],
   "source": [
    "%load_ext autoreload\n",
    "%autoreload 2"
   ]
  },
  {
   "cell_type": "code",
   "execution_count": null,
   "metadata": {},
   "outputs": [],
   "source": [
    "import torch\n",
    "from models.galata import Galata\n",
    "from models.kostantiniyye import Kostantiniyye\n",
    "import pandas as pd\n",
    "from torch.utils.data import DataLoader, random_split\n"
   ]
  },
  {
   "cell_type": "code",
   "execution_count": null,
   "metadata": {},
   "outputs": [],
   "source": [
    "device = 'cuda:0' if torch.cuda.is_available() else 'cpu'"
   ]
  },
  {
   "cell_type": "code",
   "execution_count": null,
   "metadata": {},
   "outputs": [],
   "source": [
    "model = Galata(device=device)"
   ]
  },
  {
   "cell_type": "code",
   "execution_count": null,
   "metadata": {},
   "outputs": [],
   "source": [
    "model.load_state_dict(torch.load('best_kostantiniyye_softness (1).pth'), strict= False )"
   ]
  },
  {
   "cell_type": "code",
   "execution_count": null,
   "metadata": {},
   "outputs": [],
   "source": [
    "model.softness.load_state_dict(torch.load('best_kostantiniyye_softness (1).pth'), strict=False)"
   ]
  },
  {
   "cell_type": "code",
   "execution_count": null,
   "metadata": {},
   "outputs": [],
   "source": [
    "model2 = Kostantiniyye(device=device)"
   ]
  },
  {
   "cell_type": "code",
   "execution_count": null,
   "metadata": {},
   "outputs": [],
   "source": [
    "import json"
   ]
  },
  {
   "cell_type": "code",
   "execution_count": null,
   "metadata": {},
   "outputs": [],
   "source": [
    "with open('data/json/softness_test.json', 'r') as f:\n",
    "    file = json.load(f)"
   ]
  },
  {
   "cell_type": "code",
   "execution_count": null,
   "metadata": {},
   "outputs": [],
   "source": [
    "model2.to(device)"
   ]
  },
  {
   "cell_type": "code",
   "execution_count": null,
   "metadata": {},
   "outputs": [],
   "source": [
    "from imagebind.data import load_and_transform_vision_data"
   ]
  },
  {
   "cell_type": "code",
   "execution_count": null,
   "metadata": {},
   "outputs": [],
   "source": [
    "from torch.utils.data import TensorDataset"
   ]
  },
  {
   "cell_type": "code",
   "execution_count": null,
   "metadata": {},
   "outputs": [],
   "source": [
    "import json\n",
    "from imagebind.data import load_and_transform_vision_data"
   ]
  },
  {
   "cell_type": "code",
   "execution_count": null,
   "metadata": {},
   "outputs": [],
   "source": [
    "import torch"
   ]
  },
  {
   "cell_type": "code",
   "execution_count": null,
   "metadata": {},
   "outputs": [],
   "source": [
    "device = 'cuda:0' if torch.cuda.is_available() else 'cpu'"
   ]
  },
  {
   "cell_type": "code",
   "execution_count": null,
   "metadata": {},
   "outputs": [],
   "source": [
    "with open(f'data/json/{touch}_train.json', 'r') as f:\n",
    "    data = json.load(f)"
   ]
  },
  {
   "cell_type": "code",
   "execution_count": null,
   "metadata": {},
   "outputs": [],
   "source": [
    "# test\n",
    "img = []\n",
    "portion = []\n",
    "label = []\n",
    "for i in data:\n",
    "    for im in i['img']:\n",
    "        img.append(load_and_transform_vision_data([im], device=device).to('cpu')[0])\n",
    "        portion.append(i['portion'])\n",
    "        label.append(i['label']-1)\n"
   ]
  },
  {
   "cell_type": "code",
   "execution_count": null,
   "metadata": {},
   "outputs": [],
   "source": [
    "train = TensorDataset(torch.stack(img).to('cpu'), torch.Tensor(portion).to('cpu'), torch.Tensor(label).to('cpu'))"
   ]
  },
  {
   "cell_type": "code",
   "execution_count": null,
   "metadata": {},
   "outputs": [],
   "source": [
    "torch.save(train, f'im_{touch}_train_set.pth')"
   ]
  },
  {
   "cell_type": "code",
   "execution_count": null,
   "metadata": {},
   "outputs": [],
   "source": [
    "touch = 'softness'"
   ]
  },
  {
   "cell_type": "code",
   "execution_count": null,
   "metadata": {},
   "outputs": [],
   "source": [
    "with open(f'data/json/{touch}_test.json', 'r') as f:\n",
    "    data = json.load(f)"
   ]
  },
  {
   "cell_type": "code",
   "execution_count": null,
   "metadata": {},
   "outputs": [],
   "source": [
    "# test\n",
    "img = []\n",
    "portion = []\n",
    "label = []\n",
    "for i in data:\n",
    "    img.append(load_and_transform_vision_data([i['img']], device=device).to('cpu')[0])\n",
    "    portion.append(i['portion'])\n",
    "    label.append(i['label']-1)\n"
   ]
  },
  {
   "cell_type": "code",
   "execution_count": null,
   "metadata": {},
   "outputs": [],
   "source": [
    "test = TensorDataset(torch.stack(img).to('cpu'), torch.Tensor(portion).to('cpu'), torch.Tensor(label).to('cpu'))"
   ]
  },
  {
   "cell_type": "code",
   "execution_count": null,
   "metadata": {},
   "outputs": [],
   "source": [
    "torch.save(test, f'im_{touch}_test_set.pth')"
   ]
  },
  {
   "cell_type": "code",
   "execution_count": null,
   "metadata": {},
   "outputs": [],
   "source": [
    "img[0].shape"
   ]
  },
  {
   "cell_type": "code",
   "execution_count": null,
   "metadata": {},
   "outputs": [],
   "source": [
    "galata = Galata(device=device)"
   ]
  },
  {
   "cell_type": "code",
   "execution_count": null,
   "metadata": {},
   "outputs": [],
   "source": [
    "with torch.no_grad():\n",
    "    model2.eval()\n",
    "    for item in file:\n",
    "        im = load_and_transform_vision_data([item['img']], device)\n",
    "        po = torch.Tensor([item['portion']]).to(device)\n",
    "        la = item['label']\n",
    "        re = model2(im, po)\n",
    "        print(la-1, re)"
   ]
  },
  {
   "cell_type": "code",
   "execution_count": null,
   "metadata": {},
   "outputs": [],
   "source": [
    "with torch.no_grad():\n",
    "    model.eval()\n",
    "    for item in file:\n",
    "        im = item['img']\n",
    "        po = torch.Tensor([item['portion']]).to(device)\n",
    "        la = item['label']\n",
    "        re = model(im, po)\n",
    "        print(la-1, re)"
   ]
  },
  {
   "cell_type": "code",
   "execution_count": null,
   "metadata": {},
   "outputs": [],
   "source": [
    "image = [pre(Image.open(i['img'])).unsqueeze(0)for i in j]\n",
    "portion = [i['portion']for i in j]\n",
    "label = [i['label'] -1 for i in j]"
   ]
  },
  {
   "cell_type": "code",
   "execution_count": null,
   "metadata": {},
   "outputs": [],
   "source": [
    "da = {}\n",
    "for i in['softness', 'smoothness', 'flexibility', 'thickness']:\n",
    "    for j in ['train']:\n",
    "        with open(f'data/json/{i}_{j}.json')as f:\n",
    "            j = json.load(f)\n",
    "        j = [{'img':im, 'portion':i['portion'], 'label' :i['label']}for i in j for im in i['img']]\n",
    "        image = torch.stack([pre(Image.open(i['img']))for i in j])\n",
    "        portion = torch.Tensor([i['portion']for i in j])\n",
    "        label = torch.Tensor([i['label'] -1 for i in j])\n",
    "        print(image.shape)\n",
    "\n",
    "        torch.save(TensorDataset(image, portion, label), f'datasets/{i}_train.pth')"
   ]
  },
  {
   "cell_type": "code",
   "execution_count": null,
   "metadata": {},
   "outputs": [],
   "source": [
    "for i in['softness', 'smoothness', 'flexibility', 'thickness']:\n",
    "    for j in ['test']:\n",
    "        with open(f'data/json/{i}_{j}.json')as f:\n",
    "            j = json.load(f)\n",
    "        image = torch.stack([pre(Image.open(i['img']))for i in j])\n",
    "        portion = torch.Tensor([i['portion']for i in j])\n",
    "        label = torch.Tensor([i['label'] -1 for i in j])\n",
    "        print(image.shape)\n",
    "        torch.save(TensorDataset(image, portion, label), f'datasets/{i}_test.pth')"
   ]
  },
  {
   "cell_type": "code",
   "execution_count": null,
   "metadata": {},
   "outputs": [],
   "source": [
    "[{'img':im, 'portion':i['portion'], 'label' :i['label']}for i in j for im in i['img']]"
   ]
  },
  {
   "cell_type": "code",
   "execution_count": null,
   "metadata": {},
   "outputs": [],
   "source": [
    "torch.stack([torch.load('datasets/dataset_flexibility_train.pth')[0][0], torch.load('datasets/dataset_flexibility_train.pth')[1][0]]).shape"
   ]
  },
  {
   "cell_type": "code",
   "execution_count": null,
   "metadata": {},
   "outputs": [],
   "source": [
    "image.shape"
   ]
  },
  {
   "cell_type": "code",
   "execution_count": null,
   "metadata": {},
   "outputs": [],
   "source": []
  }
 ],
 "metadata": {
  "kernelspec": {
   "display_name": "imagebind",
   "language": "python",
   "name": "python3"
  },
  "language_info": {
   "codemirror_mode": {
    "name": "ipython",
    "version": 3
   },
   "file_extension": ".py",
   "mimetype": "text/x-python",
   "name": "python",
   "nbconvert_exporter": "python",
   "pygments_lexer": "ipython3",
   "version": "3.8.19"
  }
 },
 "nbformat": 4,
 "nbformat_minor": 2
}
