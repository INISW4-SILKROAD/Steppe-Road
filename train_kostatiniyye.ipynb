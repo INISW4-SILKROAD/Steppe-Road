{
 "cells": [
  {
   "cell_type": "markdown",
   "metadata": {},
   "source": [
    "# kostatiniyye 학습"
   ]
  },
  {
   "cell_type": "markdown",
   "metadata": {},
   "source": [
    "## 라이브러리 로드"
   ]
  },
  {
   "cell_type": "code",
   "execution_count": null,
   "metadata": {},
   "outputs": [],
   "source": [
    "import pickle\n",
    "\n",
    "import torch\n",
    "import torch.nn as nn\n",
    "import torch.optim as optim\n",
    "import torch.utils.data import DataLoader\n",
    "\n",
    "# 자체 라이브러리\n",
    "from utils import model_controler\n",
    "from utils import custom_logger\n",
    "from models.kostantiniyye import Kostantiniyye"
   ]
  },
  {
   "cell_type": "code",
   "execution_count": null,
   "metadata": {},
   "outputs": [],
   "source": [
    "device = 'cuda:0' if torch.cuda.is_available() else 'cpu'"
   ]
  },
  {
   "cell_type": "markdown",
   "metadata": {},
   "source": [
    "## 데이터 로드"
   ]
  },
  {
   "cell_type": "code",
   "execution_count": null,
   "metadata": {},
   "outputs": [],
   "source": [
    "touch = 'softness'"
   ]
  },
  {
   "cell_type": "code",
   "execution_count": null,
   "metadata": {},
   "outputs": [],
   "source": [
    "train = torch.load(f'./dataset/{touch}_train.pth')\n",
    "test = torch.load(f'./dataset/{touch}_test.pth')\n",
    "\n",
    "train_loader = DataLoader(train, batch_size=128, shuffle=True)\n",
    "test_loader = DataLoader(test, batch_size=128, shuffle=False)"
   ]
  },
  {
   "cell_type": "code",
   "execution_count": null,
   "metadata": {},
   "outputs": [],
   "source": [
    "model = Kostantiniyye(device=device)\n",
    "model.load_state_dict(torch.load(f'.checkpoints/pretrained_kostantiniyye.pth'), strict = False)"
   ]
  },
  {
   "cell_type": "code",
   "execution_count": null,
   "metadata": {},
   "outputs": [],
   "source": [
    "model_controler.freeze_model(model, exception=\n",
    "             ['attention', 'normalize'])\n",
    "model.classifier.mobilenet.classifier[3].requires_grad = True\n",
    "model.classifier.mobilenet.classifier[3].requires_grad "
   ]
  },
  {
   "cell_type": "code",
   "execution_count": null,
   "metadata": {},
   "outputs": [],
   "source": [
    "model.to(device)"
   ]
  },
  {
   "cell_type": "code",
   "execution_count": null,
   "metadata": {},
   "outputs": [],
   "source": [
    "logger = custom_logger.get_logger(f'/content/drive/MyDrive/dataset/kostatiniyye_{touch}')"
   ]
  },
  {
   "cell_type": "code",
   "execution_count": null,
   "metadata": {},
   "outputs": [],
   "source": [
    "# 손실 함수 및 최적화 함수 정의\n",
    "lr = 0.001\n",
    "criterion = nn.CrossEntropyLoss()\n",
    "optimizer = optim.Adam(model.parameters(), lr=lr)\n",
    "num_epochs = 10\n",
    "test_step = 1"
   ]
  },
  {
   "cell_type": "code",
   "execution_count": null,
   "metadata": {},
   "outputs": [],
   "source": [
    "results = []"
   ]
  },
  {
   "cell_type": "code",
   "execution_count": null,
   "metadata": {},
   "outputs": [],
   "source": [
    "logger.info(f'start new run lr:{lr}-------------')\n",
    "result = run_train_test_2_input(\n",
    "    model=model,\n",
    "    train_loader=train_loader,\n",
    "    test_loader=test_loader,\n",
    "    best_test_loss = 999.,\n",
    "    criterion=criterion,\n",
    "    optimizer=optimizer,\n",
    "    num_epochs=num_epochs,\n",
    "    test_step=test_step,\n",
    "    logger = logger,\n",
    "    device = device,\n",
    "    path = f'/content/best_kostantiniyye_{touch}.pth')\n",
    "results.append(result)"
   ]
  },
  {
   "cell_type": "code",
   "execution_count": null,
   "metadata": {},
   "outputs": [],
   "source": [
    "best_test_loss, train_losses, test_losses = [], [], []\n",
    "for i in results:\n",
    "    best_test_loss.append(i[0])\n",
    "    train_losses += i[1]\n",
    "    test_losses += i[2]"
   ]
  },
  {
   "cell_type": "code",
   "execution_count": null,
   "metadata": {},
   "outputs": [],
   "source": [
    "with open(f'/content/drive/MyDrive/kostantiniyye_{touch}.pkl', 'wb') as f:\n",
    "    pickle.dump(\n",
    "        {\n",
    "            'best_test_loss': best_test_loss,\n",
    "            'train_losses': train_losses,\n",
    "            'test_losses': test_losses\n",
    "        }, f)"
   ]
  }
 ],
 "metadata": {
  "language_info": {
   "name": "python"
  }
 },
 "nbformat": 4,
 "nbformat_minor": 2
}
