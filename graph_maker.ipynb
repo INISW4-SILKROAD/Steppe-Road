{
 "cells": [
  {
   "cell_type": "code",
   "execution_count": null,
   "metadata": {},
   "outputs": [],
   "source": [
    "import pandas as pd\n",
    "import seaborn as sns\n",
    "import matplotlib.pyplot as plt\n",
    "\n",
    "import pickle"
   ]
  },
  {
   "cell_type": "code",
   "execution_count": null,
   "metadata": {},
   "outputs": [],
   "source": [
    "def openner(path):\n",
    "    with open(path, 'rb') as f:\n",
    "        file = pickle.load(f)\n",
    "    \n",
    "    return file"
   ]
  },
  {
   "cell_type": "code",
   "execution_count": null,
   "metadata": {},
   "outputs": [],
   "source": [
    "con_im = openner('data/pickles/constantinople_imagebind.pkl')\n",
    "con_cl = openner('data/pickles/constantinople_clip.pkl')\n",
    "con2_im = openner('data/pickles/constantinople_v2_imagebind.pkl')\n",
    "con2_cl = openner('data/pickles/constantinople_v2_clip.pkl')\n",
    "ven_im = openner('data/pickles/venezia_clip.pkl')\n",
    "ven_cl = openner('data/pickles/venezia_imagebind.pkl')\n",
    "\n",
    "kos_im = openner('data/pickles/kostantiniyye_flexibility.pkl')\n",
    "kos_cl = openner('data/pickles/kostantiniyye_flexibility_clip_final.pkl')"
   ]
  },
  {
   "cell_type": "code",
   "execution_count": null,
   "metadata": {},
   "outputs": [],
   "source": [
    "sns.set_palette(\"Set2\",9)"
   ]
  },
  {
   "cell_type": "code",
   "execution_count": null,
   "metadata": {},
   "outputs": [],
   "source": [
    "palette_clip = [\"red\", \"orange\"]\n",
    "palette_imagebind = [\"blue\", \"green\"]"
   ]
  },
  {
   "cell_type": "code",
   "execution_count": null,
   "metadata": {},
   "outputs": [],
   "source": [
    "sns.lineplot(data={'imagebind_train':con_im['train_losses'], 'imagebind_test':con_im['test_losses']}, palette=palette_imagebind)\n",
    "sns.lineplot(data={'clip_train':con_cl['train_losses'], 'clip_test':con_cl['test_losses']}, palette=palette_clip)\n",
    "plt.title(\"constantinople\")"
   ]
  },
  {
   "cell_type": "code",
   "execution_count": null,
   "metadata": {},
   "outputs": [],
   "source": [
    "sns.lineplot(data={'imagebind_train':con2_im['train_losses'], 'imagebind_test':con2_im['test_losses']}, palette=palette_imagebind)\n",
    "sns.lineplot(data={'clip_train':con2_cl['train_losses'], 'clip_test':con2_cl['test_losses']}, palette=palette_clip)\n",
    "plt.title(\"constantinople_v2\")"
   ]
  },
  {
   "cell_type": "code",
   "execution_count": null,
   "metadata": {},
   "outputs": [],
   "source": [
    "sns.lineplot(data={'imagebind_train':ven_im['train_losses'], 'imagebind_test':ven_im['test_losses']}, palette=palette_imagebind)\n",
    "sns.lineplot(data={'clip_train':ven_cl['train_losses'], 'clip_test':ven_cl['test_losses']}, palette=palette_clip)\n",
    "plt.title(\"venezia\")"
   ]
  },
  {
   "cell_type": "code",
   "execution_count": null,
   "metadata": {},
   "outputs": [],
   "source": [
    "sns.lineplot(data={'imagebind_train':kos_im['train_losses'], 'imagebind_test':kos_im['test_losses']}, palette=palette_imagebind)\n",
    "sns.lineplot(data={'clip_train':kos_cl['train_losses'], 'clip_test':kos_cl['test_losses']}, palette=palette_clip)\n",
    "plt.title(\"Kostantiniye\")"
   ]
  },
  {
   "cell_type": "code",
   "execution_count": null,
   "metadata": {},
   "outputs": [],
   "source": [
    "so = openner('data/pickles/kostantiniyye_softness.pkl')\n",
    "sm = openner('data/pickles/kostantiniyye_softness.pkl')\n",
    "th = openner('data/pickles/kostantiniyye_thickness.pkl')\n",
    "fl = openner('data/pickles/kostantiniyye_flexibility.pkl')"
   ]
  },
  {
   "cell_type": "code",
   "execution_count": null,
   "metadata": {},
   "outputs": [],
   "source": [
    "sns.lineplot(data={'imagebind_train':kos_im['train_losses'], 'imagebind_test':kos_im['test_losses']}, palette=palette_imagebind)\n",
    "sns.lineplot(data={'clip_train':kos_cl['train_losses'], 'clip_test':kos_cl['test_losses']}, palette=palette_clip)"
   ]
  },
  {
   "cell_type": "code",
   "execution_count": null,
   "metadata": {},
   "outputs": [],
   "source": []
  }
 ],
 "metadata": {
  "kernelspec": {
   "display_name": "ml",
   "language": "python",
   "name": "python3"
  },
  "language_info": {
   "codemirror_mode": {
    "name": "ipython",
    "version": 3
   },
   "file_extension": ".py",
   "mimetype": "text/x-python",
   "name": "python",
   "nbconvert_exporter": "python",
   "pygments_lexer": "ipython3",
   "version": "3.9.19"
  }
 },
 "nbformat": 4,
 "nbformat_minor": 2
}
