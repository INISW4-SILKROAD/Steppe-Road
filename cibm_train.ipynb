{
 "cells": [
  {
   "cell_type": "code",
   "execution_count": null,
   "id": "47dbe7cb",
   "metadata": {},
   "outputs": [],
   "source": [
    "import torch\n",
    "import torch.nn as nn\n",
    "import torch.optim as optim\n",
    "from torch.utils.data import DataLoader, random_split, TensorDataset\n",
    "import pandas as pd\n",
    "\n",
    "import pickle, os, sys\n",
    "# imagebind\n",
    "from imagebind import data\n",
    "import models.encoder.custom_ib_model as cibm\n",
    "from models.encoder.custom_ib_model import ModalityType\n",
    "# mobile_net\n",
    "import models.classifier.custom_mobile_net as cmn "
   ]
  },
  {
   "cell_type": "code",
   "execution_count": null,
   "id": "107a7b8c",
   "metadata": {},
   "outputs": [],
   "source": [
    "device = \"cuda:0\" if torch.cuda.is_available() else \"cpu\""
   ]
  },
  {
   "cell_type": "code",
   "execution_count": null,
   "id": "220ce24a",
   "metadata": {},
   "outputs": [],
   "source": [
    "# 데이터 준비 및 모델 로드\n",
    "df = pd.read_csv('./data/data.csv')"
   ]
  },
  {
   "cell_type": "code",
   "execution_count": null,
   "id": "492d71f8",
   "metadata": {},
   "outputs": [],
   "source": [
    "def get_embeddings(device):\n",
    "    if os.path.exists('./data/embedbings.pkl'):\n",
    "        with open('./data/embedbings.pkl', 'rb')as f:\n",
    "            embeddings = pickle.load(f)\n",
    "            \n",
    "        return embeddings\n",
    "    \n",
    "    cib_model = cibm.cibm_pretrained(out_embed_dim=1024)\n",
    "    cib_model.eval()\n",
    "    cib_model.to(device)\n",
    "\n",
    "    inputs = {\n",
    "        ModalityType.TEXT: data.load_and_transform_text(df['portion'], device),\n",
    "        ModalityType.VISION: data.load_and_transform_vision_data(df['image'], device),\n",
    "    }\n",
    "    with torch.no_grad():\n",
    "        embeddings = cib_model(inputs)\n",
    "\n",
    "    with open('./data/cib_model.pkl', 'wb')as f:\n",
    "        pickle.dump(cib_model, f)\n",
    "    \n",
    "    with open('./data/embedbings.pkl', 'wb')as f:\n",
    "        pickle.dump(embeddings, f)\n",
    "\n",
    "    return embeddings"
   ]
  },
  {
   "cell_type": "code",
   "execution_count": null,
   "id": "fdcabfb8",
   "metadata": {},
   "outputs": [],
   "source": [
    "embeddings = get_embeddings(device=device)"
   ]
  },
  {
   "cell_type": "code",
   "execution_count": null,
   "id": "46fdc0a8",
   "metadata": {},
   "outputs": [],
   "source": [
    "def make_labes(touch):\n",
    "    df2 = pd.read_csv(f'data/{touch}.csv')\n",
    "    d = [torch.tensor(df2[str(i)].values, dtype=torch.float32) for i in range(1,6)]\n",
    "    return torch.stack(tuple(d), dim=1)"
   ]
  },
  {
   "cell_type": "code",
   "execution_count": null,
   "id": "5f06e8e8",
   "metadata": {},
   "outputs": [],
   "source": [
    "# Average the embeddings\n",
    "features = (embeddings['text'] + embeddings['vision']) / 2\n",
    "touchs = {\n",
    "    'softness' : make_labes('softness'),\n",
    "    'roughness' : make_labes('roughness'),\n",
    "    'thickness' : make_labes('thickness'),\n",
    "    'flexibility' : make_labes('flexibility')\n",
    "}"
   ]
  },
  {
   "cell_type": "code",
   "execution_count": null,
   "id": "17c9dcfc",
   "metadata": {},
   "outputs": [],
   "source": [
    "# 모델 만들기 \n",
    "input_size = 1024\n",
    "models = {}\n",
    "datasets ={}\n",
    "\n",
    "for touch, v in touchs.items():\n",
    "    # Combine features and labels into a single dataset\n",
    "    datasets[touch] = TensorDataset(features, v)\n",
    "    models[touch] = cmn.CustomMobileNet(input=1024, num_class = 5)\n",
    "    models[touch].set_transfer_learn()\n"
   ]
  },
  {
   "cell_type": "code",
   "execution_count": null,
   "id": "e1302249",
   "metadata": {},
   "outputs": [],
   "source": [
    "select = 'softness'\n",
    "model = models[select]\n",
    "model.to(device)\n",
    "dataset = datasets[select]"
   ]
  },
  {
   "cell_type": "code",
   "execution_count": null,
   "id": "671a7fb8",
   "metadata": {},
   "outputs": [],
   "source": [
    "# 데이터셋 분할\n",
    "train_size = int(0.9 * len(dataset))\n",
    "val_size = len(dataset) - train_size\n",
    "train_dataset, val_dataset = random_split(dataset, [train_size, val_size])\n",
    "\n",
    "train_loader = DataLoader(train_dataset, batch_size=32, shuffle=True)\n",
    "val_loader = DataLoader(val_dataset, batch_size=32, shuffle=False)"
   ]
  },
  {
   "cell_type": "code",
   "execution_count": null,
   "id": "19d2b1ed",
   "metadata": {},
   "outputs": [],
   "source": [
    "# 손실 함수 및 최적화 함수 정의\n",
    "criterion = nn.MSELoss()\n",
    "optimizer = optim.Adam(model.parameters(), lr=0.001)"
   ]
  },
  {
   "cell_type": "code",
   "execution_count": null,
   "id": "998d7e77",
   "metadata": {},
   "outputs": [],
   "source": [
    "# 모델 학습 및 검증\n",
    "num_epochs = 25\n",
    "best_val_loss = float('inf')"
   ]
  },
  {
   "cell_type": "code",
   "execution_count": null,
   "id": "e43d419f",
   "metadata": {},
   "outputs": [],
   "source": [
    "train_loss = []\n",
    "val_loss = []\n",
    "if os.path.exists(f'{select}_best_model_{input_size}.pth'):\n",
    "    model.load_pretrained(f'{select}_best_model_{input_size}.pth')\n",
    "    \n",
    "\n",
    "for epoch in range(num_epochs):\n",
    "    # train, valid loss 계산\n",
    "    train_loss.append(cmn.train_model(model, train_loader, criterion, optimizer, device, num_epochs=5))\n",
    "    val_loss.append(cmn.evaluate_model(model, val_loader, criterion, device))\n",
    "    # valid_loss 최솟값 저장\n",
    "    if val_loss[-1] < best_val_loss:\n",
    "        best_val_loss = val_loss[-1]\n",
    "        print(f'new {best_val_loss}', flush=True)\n",
    "        torch.save(model.state_dict(), f'{select}_best_model_{input_size}.pth')\n",
    "    print(f'epoch {epoch} train {train_loss[-1]} valid {val_loss[-1]}', end = '\\r', flush=True)\n"
   ]
  }
 ],
 "metadata": {
  "kernelspec": {
   "display_name": "Python 3 (ipykernel)",
   "language": "python",
   "name": "python3"
  },
  "language_info": {
   "codemirror_mode": {
    "name": "ipython",
    "version": 3
   },
   "file_extension": ".py",
   "mimetype": "text/x-python",
   "name": "python",
   "nbconvert_exporter": "python",
   "pygments_lexer": "ipython3",
   "version": "3.8.19"
  }
 },
 "nbformat": 4,
 "nbformat_minor": 5
}
