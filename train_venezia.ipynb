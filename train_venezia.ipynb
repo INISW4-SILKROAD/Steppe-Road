{
 "cells": [
  {
   "cell_type": "code",
   "execution_count": null,
   "metadata": {},
   "outputs": [],
   "source": [
    "%load_ext autoreload\n",
    "%autoreload 2"
   ]
  },
  {
   "cell_type": "code",
   "execution_count": null,
   "metadata": {},
   "outputs": [],
   "source": [
    "import torch\n",
    "import torch.nn as nn\n",
    "import torch.optim as optim\n",
    "from torch.utils.data import DataLoader\n",
    "\n",
    "from models.venezia import Venezia\n",
    "from utils.model_controler import freeze_model, run_train_test_2_input\n",
    "from utils.custom_logger import get_logger\n"
   ]
  },
  {
   "cell_type": "code",
   "execution_count": null,
   "metadata": {},
   "outputs": [],
   "source": [
    "device = \"cuda:0\" if torch.cuda.is_available() else \"cpu\""
   ]
  },
  {
   "cell_type": "code",
   "execution_count": null,
   "metadata": {},
   "outputs": [],
   "source": [
    "touch = 'softness'\n",
    "train = torch.load(f'./dataset/{touch}_train.pth')\n",
    "test = torch.load(f'./dataset/{touch}_test.pth')"
   ]
  },
  {
   "cell_type": "code",
   "execution_count": null,
   "metadata": {},
   "outputs": [],
   "source": [
    "train_loader = DataLoader(train, batch_size=64, shuffle=True)\n",
    "test_loader = DataLoader(test, batch_size=32, shuffle=False)"
   ]
  },
  {
   "cell_type": "code",
   "execution_count": null,
   "metadata": {},
   "outputs": [],
   "source": [
    "#model = load_venezia_pretrain()\n",
    "model = Venezia()\n",
    "model.load_state_dict(torch.load(f'.checkpoints/best/best_venezia.pth'))"
   ]
  },
  {
   "cell_type": "code",
   "execution_count": null,
   "metadata": {},
   "outputs": [],
   "source": [
    "freeze_model(model, exception=\n",
    "             ['classifier', 'polling', 'input_preprocessor']) # modality_head\n",
    "\n",
    "model.to(device)"
   ]
  },
  {
   "cell_type": "code",
   "execution_count": null,
   "metadata": {},
   "outputs": [],
   "source": [
    "# 손실 함수 및 최적화 함수 정의\n",
    "criterion = nn.MSELoss()\n",
    "optimizer = optim.Adam(model.parameters(), lr=0.001)\n",
    "num_epochs = 5\n",
    "test_step = 1\n",
    "logger = get_logger('venezia_stable')"
   ]
  },
  {
   "cell_type": "code",
   "execution_count": null,
   "metadata": {},
   "outputs": [],
   "source": [
    "logger.info('start_new_run--------------------------------')\n",
    "\n",
    "result = run_train_test_2_input(\n",
    "    model=model, \n",
    "    train_loader=train_loader, \n",
    "    test_loader=test_loader,\n",
    "    best_test_loss = float('inf'),\n",
    "    criterion=criterion, \n",
    "    optimizer=optimizer, \n",
    "    num_epochs=num_epochs, \n",
    "    test_step=test_step, \n",
    "    logger = logger, \n",
    "    device = device,\n",
    "    path = f'.checkpoints/best/best_venezia_{touch}.pth')"
   ]
  }
 ],
 "metadata": {
  "kernelspec": {
   "display_name": "imagebind",
   "language": "python",
   "name": "python3"
  },
  "language_info": {
   "codemirror_mode": {
    "name": "ipython",
    "version": 3
   },
   "file_extension": ".py",
   "mimetype": "text/x-python",
   "name": "python",
   "nbconvert_exporter": "python",
   "pygments_lexer": "ipython3",
   "version": "3.8.19"
  }
 },
 "nbformat": 4,
 "nbformat_minor": 2
}
