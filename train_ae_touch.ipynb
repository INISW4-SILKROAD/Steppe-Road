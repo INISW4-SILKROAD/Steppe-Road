{
 "cells": [
  {
   "cell_type": "code",
   "execution_count": null,
   "metadata": {},
   "outputs": [],
   "source": [
    "import torch\n",
    "import torch.nn as nn\n",
    "import torch.optim as optim\n",
    "from torch.utils.data import DataLoader, random_split\n",
    "\n",
    "import  os, json\n",
    "from tqdm import tqdm \n",
    "\n",
    "from dataset import dataset\n",
    "from models.encoder.simple_ae import SimpleAE\n",
    "from utils.model_controler import run_train_test_1_input\n",
    "from utils.custom_logger import get_logger"
   ]
  },
  {
   "cell_type": "code",
   "execution_count": null,
   "metadata": {},
   "outputs": [],
   "source": [
    "device = \"cuda:0\" if torch.cuda.is_available() else \"cpu\""
   ]
  },
  {
   "cell_type": "code",
   "execution_count": null,
   "metadata": {},
   "outputs": [],
   "source": [
    "portion_dataset = torch.load('dataset/touchn_dataset.pth')"
   ]
  },
  {
   "cell_type": "code",
   "execution_count": null,
   "metadata": {},
   "outputs": [],
   "source": [
    "train_size = int(625*0.8)\n",
    "test_size = 625-train_size\n",
    "\n",
    "train, test = random_split(portion_dataset, [train_size, test_size])"
   ]
  },
  {
   "cell_type": "code",
   "execution_count": null,
   "metadata": {},
   "outputs": [],
   "source": [
    "train_loader = DataLoader(train, batch_size=256, shuffle=True)\n",
    "test_loader = DataLoader(test, batch_size=256, shuffle=False)"
   ]
  },
  {
   "cell_type": "code",
   "execution_count": null,
   "metadata": {},
   "outputs": [],
   "source": [
    "model = SimpleAE(input_dim=4, latent_dim=512)\n",
    "\n",
    "for i in model.parameters():\n",
    "  i.requires_grad = True\n",
    "\n",
    "model.train()\n",
    "model.to(device)"
   ]
  },
  {
   "cell_type": "code",
   "execution_count": null,
   "metadata": {},
   "outputs": [],
   "source": [
    "criterion = nn.L1Loss()\n",
    "optimizer = optim.Adam(model.parameters(), lr=0.00001)\n",
    "num_epochs = 100\n",
    "test_step = 10\n",
    "logger = get_logger('autoencoder_touch')"
   ]
  },
  {
   "cell_type": "code",
   "execution_count": null,
   "metadata": {},
   "outputs": [],
   "source": [
    "run_train_test_1_input(\n",
    "    model=model, \n",
    "    train_loader=train_loader, \n",
    "    test_loader=test_loader, \n",
    "    criterion=criterion, \n",
    "    optimizer=optimizer, \n",
    "    num_epochs=num_epochs, \n",
    "    test_step=test_step, \n",
    "    logger=logger, \n",
    "    device=device,\n",
    "    path='.checkpoints/best/ae_touch_best.pth'\n",
    ")"
   ]
  }
 ],
 "metadata": {
  "language_info": {
   "name": "python"
  }
 },
 "nbformat": 4,
 "nbformat_minor": 2
}
