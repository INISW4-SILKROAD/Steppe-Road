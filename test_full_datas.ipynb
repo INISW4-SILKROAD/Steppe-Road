{
 "cells": [
  {
   "cell_type": "code",
   "execution_count": 1,
   "metadata": {},
   "outputs": [],
   "source": [
    "%load_ext autoreload\n",
    "%autoreload 2"
   ]
  },
  {
   "cell_type": "code",
   "execution_count": 2,
   "metadata": {},
   "outputs": [
    {
     "name": "stderr",
     "output_type": "stream",
     "text": [
      "c:\\Users\\esill\\miniconda3\\envs\\imagebind\\lib\\site-packages\\torchaudio\\backend\\utils.py:62: UserWarning: No audio backend is available.\n",
      "  warnings.warn(\"No audio backend is available.\")\n",
      "c:\\Users\\esill\\miniconda3\\envs\\imagebind\\lib\\site-packages\\torchvision\\transforms\\_functional_video.py:6: UserWarning: The 'torchvision.transforms._functional_video' module is deprecated since 0.12 and will be removed in the future. Please use the 'torchvision.transforms.functional' module instead.\n",
      "  warnings.warn(\n",
      "c:\\Users\\esill\\miniconda3\\envs\\imagebind\\lib\\site-packages\\torchvision\\transforms\\_transforms_video.py:22: UserWarning: The 'torchvision.transforms._transforms_video' module is deprecated since 0.12 and will be removed in the future. Please use the 'torchvision.transforms' module instead.\n",
      "  warnings.warn(\n"
     ]
    }
   ],
   "source": [
    "import torch\n",
    "import torch.nn as nn\n",
    "import torch.optim as optim\n",
    "from torch.utils.data import DataLoader, random_split, TensorDataset\n",
    "import pandas as pd\n",
    "\n",
    "import pickle, os, sys, json\n",
    "from tqdm import tqdm \n",
    "# imagebind\n",
    "from models.venezia import load_venezia_pretrain\n",
    "from utils.model_control import freeze_model\n",
    "from dataset import dataset"
   ]
  },
  {
   "cell_type": "code",
   "execution_count": 3,
   "metadata": {},
   "outputs": [],
   "source": [
    "device = \"cuda:0\" if torch.cuda.is_available() else \"cpu\""
   ]
  },
  {
   "cell_type": "code",
   "execution_count": 11,
   "metadata": {},
   "outputs": [],
   "source": [
    "for touch in ['softness', 'smoothness', 'thickness', 'flexibility'] :\n",
    "    train, test = dataset.get_dataset(\n",
    "        f'./dataset/{touch}_train.json', \n",
    "        f'./dataset/{touch}_test.json',\n",
    "        './dataset/image_embed.pth' \n",
    "    )\n",
    "\n",
    "    torch.save(train,f'./dataset/{touch}_train.pth')\n",
    "    torch.save(train,f'./dataset/{touch}_test.pth')"
   ]
  },
  {
   "cell_type": "code",
   "execution_count": null,
   "metadata": {},
   "outputs": [],
   "source": [
    "model = load_venezia_pretrain()"
   ]
  },
  {
   "cell_type": "code",
   "execution_count": null,
   "metadata": {},
   "outputs": [],
   "source": [
    "freeze_model(model, exception=\n",
    "             ['classifier', 'polling', 'mid_processor', 'modality_heads'])"
   ]
  },
  {
   "cell_type": "code",
   "execution_count": 5,
   "metadata": {},
   "outputs": [],
   "source": [
    "img_embed = torch.load( 'image_embed.pth' )\n"
   ]
  },
  {
   "cell_type": "code",
   "execution_count": 7,
   "metadata": {},
   "outputs": [],
   "source": [
    "\n",
    "with open(f'./dataset/{touch}_train.json', 'r') as f: \n",
    "    train_json = json.load(f)\n",
    "\n",
    "with open( f'./dataset/{touch}_test.json', 'r') as f: \n",
    "    test_json = json.load(f)\n",
    "\n"
   ]
  },
  {
   "cell_type": "code",
   "execution_count": 8,
   "metadata": {},
   "outputs": [],
   "source": [
    "def get_data():\n",
    "\n",
    "    train_data = {\n",
    "        \"img\" : [img_embed[j] for i in train_json for j in i['img']],\n",
    "        \"portion\": [i['portion'] for i in train_json for j in i['img']],\n",
    "        \"label\" :  [i['label'] for i in train_json for j in i['img']]\n",
    "    }\n",
    "        \n",
    "    test_data = {\n",
    "        \"img\" :[img_embed[i['img']] for i in test_json],   \n",
    "        \"portion\": [i['portion'] for i in test_json],\n",
    "        \"label\" :  [i['label'] for i in test_json]\n",
    "    }\n",
    "    \n",
    "    return train_data, test_data\n"
   ]
  }
 ],
 "metadata": {
  "kernelspec": {
   "display_name": "imagebind",
   "language": "python",
   "name": "python3"
  },
  "language_info": {
   "codemirror_mode": {
    "name": "ipython",
    "version": 3
   },
   "file_extension": ".py",
   "mimetype": "text/x-python",
   "name": "python",
   "nbconvert_exporter": "python",
   "pygments_lexer": "ipython3",
   "version": "3.8.19"
  }
 },
 "nbformat": 4,
 "nbformat_minor": 2
}
