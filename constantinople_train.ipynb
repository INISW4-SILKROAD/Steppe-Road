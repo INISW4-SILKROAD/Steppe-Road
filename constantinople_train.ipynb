{
 "cells": [
  {
   "cell_type": "code",
   "execution_count": null,
   "metadata": {},
   "outputs": [],
   "source": [
    "%load_ext autoreload\n",
    "%autoreload 2"
   ]
  },
  {
   "cell_type": "code",
   "execution_count": null,
   "metadata": {},
   "outputs": [],
   "source": [
    "import torch\n",
    "import torch.nn as nn\n",
    "import torch.optim as optim\n",
    "from torch.utils.data import DataLoader, random_split, TensorDataset\n",
    "import pandas as pd\n",
    "\n",
    "import pickle, os, sys\n",
    "\n",
    "# imagebind\n",
    "from imagebind.data import load_and_transform_vision_data \n",
    "import encoder.custom_ibvis_encoder as cibv\n",
    "import encoder.custom_ib_model as cibm\n",
    "from models.constantinople import Constantinople\n",
    "from info_nce import InfoNCE\n",
    "from tqdm import tqdm\n",
    "from utils.custom_logger import get_logger"
   ]
  },
  {
   "cell_type": "code",
   "execution_count": null,
   "metadata": {},
   "outputs": [],
   "source": [
    "device = \"cuda:0\" if torch.cuda.is_available() else \"cpu\""
   ]
  },
  {
   "cell_type": "code",
   "execution_count": null,
   "metadata": {},
   "outputs": [],
   "source": [
    "def get_model():\n",
    "    if os.path.exists('constantinople_512.pth'):\n",
    "        model = torch.load('constantinople_512.pth')\n",
    "    model = Constantinople()\n",
    "    model.load_state_dict(torch.load('.checkpoints/constantinople_pretrained_512.pth'), strict = False)\n",
    "    return model"
   ]
  },
  {
   "cell_type": "code",
   "execution_count": null,
   "metadata": {},
   "outputs": [],
   "source": [
    "model = get_model()"
   ]
  },
  {
   "cell_type": "code",
   "execution_count": null,
   "metadata": {},
   "outputs": [],
   "source": [
    "def freeze_model(model, exception = []):\n",
    "    for name, child in model.named_children():\n",
    "        if name in exception:\n",
    "            for n, param in child.named_parameters():\n",
    "                param.requires_grad = True\n",
    "                print(name, n, param.requires_grad)\n",
    "        else:\n",
    "            for param in child.parameters():\n",
    "                param.requires_grad = False\n",
    "            freeze_model(child, exception)            "
   ]
  },
  {
   "cell_type": "code",
   "execution_count": null,
   "metadata": {},
   "outputs": [],
   "source": [
    "freeze_model(model, ['modality_postprocessors', 'modality_heads', 'polling'])"
   ]
  },
  {
   "cell_type": "code",
   "execution_count": null,
   "metadata": {},
   "outputs": [],
   "source": [
    "model.train()\n",
    "model.to(device)"
   ]
  },
  {
   "cell_type": "code",
   "execution_count": null,
   "metadata": {},
   "outputs": [],
   "source": [
    "def get_dataset(dataset_path = 'data/constantinople_dataset.pkl'):\n",
    "    if os.path.exists(dataset_path):\n",
    "        with open(dataset_path, 'rb') as f:\n",
    "            dataset = pickle.load(f)\n",
    "        return dataset\n",
    "    \n",
    "    with open('data/constantinople_data.pkl', 'rb') as f:\n",
    "        data = pickle.load(f)\n",
    "    \n",
    "    portion = torch.Tensor(list(data['portion'].values())).to(device)\n",
    "    touch = torch.Tensor(list(data['touch'].values())).to(device)\n",
    "    path = list(data['image'].values())\n",
    "    \n",
    "    image = load_and_transform_vision_data(path, device)\n",
    "    dataset = TensorDataset(image, portion, touch)\n",
    "    print(portion.dtype, touch.dtype, image.dtype)\n",
    "    with open(dataset_path, 'wb') as f:\n",
    "        pickle.dump(dataset, f)\n",
    "    \n",
    "    return dataset"
   ]
  },
  {
   "cell_type": "code",
   "execution_count": null,
   "metadata": {},
   "outputs": [],
   "source": [
    "dataset = get_dataset()"
   ]
  },
  {
   "cell_type": "code",
   "execution_count": null,
   "metadata": {},
   "outputs": [],
   "source": [
    "train_size = 80\n",
    "val_size = 7\n",
    "train_dataset, val_dataset = random_split(dataset, [train_size, val_size])\n",
    "print(train_size, val_size)\n",
    "\n",
    "train_loader = DataLoader(train_dataset, batch_size=32, shuffle=True)\n",
    "val_loader = DataLoader(val_dataset, batch_size=8, shuffle=False)"
   ]
  },
  {
   "cell_type": "code",
   "execution_count": null,
   "metadata": {},
   "outputs": [],
   "source": [
    "criterion = InfoNCE()\n",
    "optimizer = optim.Adam(model.parameters(), lr=0.005)"
   ]
  },
  {
   "cell_type": "code",
   "execution_count": null,
   "metadata": {},
   "outputs": [],
   "source": [
    "# 모델 학습 및 검증\n",
    "num_epochs = 5\n",
    "best_val_loss = float('inf')\n",
    "logger = get_logger()"
   ]
  },
  {
   "cell_type": "code",
   "execution_count": null,
   "metadata": {},
   "outputs": [],
   "source": [
    "def train_model(model, train_loader, criterion, optimizer, device, num_epochs=25):\n",
    "    model.train()\n",
    "    train_loss = 0\n",
    "    for epoch in range(num_epochs):\n",
    "        running_loss = 0.0\n",
    "        batch = 1\n",
    "        for image_em, portion, labels in train_loader:\n",
    "            logger.info(f'train batch {batch} start')\n",
    "            image_em, portion ,labels = image_em.to(device), portion.to(device), labels.to(device)\n",
    "            optimizer.zero_grad()\n",
    "            outputs = model(image_em, portion)\n",
    "            logger.info(f'train batch {batch} output : {outputs.shape} ')\n",
    "\n",
    "            loss = criterion(outputs, labels)\n",
    "            logger.info(f'train batch {batch} loss : {loss:.4f} ')\n",
    "\n",
    "            loss.backward()\n",
    "            optimizer.step()\n",
    "            running_loss += loss.item() * image_em.size(0)\n",
    "            logger.info(f'train batch {batch} end, running_loss: {running_loss:.4f}')\n",
    "            batch += 1\n",
    "\n",
    "        epoch_loss = running_loss / len(train_loader.dataset)\n",
    "        train_loss = epoch_loss\n",
    "        logger.info(f'Epoch {epoch}/{num_epochs - 1}, Loss: {epoch_loss:.4f}')\n",
    "    return train_loss\n",
    "\n",
    "# 검증 함수\n",
    "def evaluate_model(model, val_loader, criterion, device):\n",
    "    model.eval()\n",
    "    val_loss = 0.0\n",
    "    with torch.no_grad():\n",
    "        batch = 1\n",
    "        for image_em, portion, labels in val_loader:\n",
    "            logger.info(f'valid batch {batch} start')\n",
    "\n",
    "            image_em, portion ,labels = image_em.to(device), portion.to(device), labels.to(device)\n",
    "            outputs = model(image_em, portion)\n",
    "            logger.info(f'train batch {batch} output : {outputs.shape} ')\n",
    "\n",
    "            loss = criterion(outputs, labels)\n",
    "            logger.info(f'train batch {batch} loss : {loss:.4f} ')\n",
    "            \n",
    "            val_loss += loss.item() * image_em.size(0)\n",
    "            logger.info(f'valid batch {batch} end, running_loss: {val_loss:.4f}')\n",
    "            batch +=1\n",
    "    val_loss /= len(val_loader.dataset)\n",
    "    logger.info(f'Validation Loss: {val_loss:.4f}')\n",
    "    return val_loss\n"
   ]
  },
  {
   "cell_type": "code",
   "execution_count": null,
   "metadata": {},
   "outputs": [],
   "source": [
    "train_loss = []\n",
    "val_loss = []\n",
    "if os.path.exists('constantinople_best.pth'):\n",
    "    model.load_state_dict(torch.load('constantinople_best.pth'))\n",
    "    \n",
    "\n",
    "for epoch in range(1):\n",
    "    # train, valid loss 계산\n",
    "    train_loss.append(train_model(model, train_loader, criterion, optimizer, device, num_epochs=5))\n",
    "    val_loss.append(evaluate_model(model, val_loader, criterion, device))\n",
    "    # valid_loss 최솟값 저장\n",
    "    logger.info(f'TOTAL RUN {epoch}/{num_epochs - 1}, Train_Loss: {train_loss[-1]:.4f},  VAoid_Loss: {val_loss[-1]:.4f}')\n",
    "    if val_loss[-1] < best_val_loss:\n",
    "        best_val_loss = val_loss[-1]\n",
    "        torch.save(model.state_dict(), f'constantinople_best')\n",
    "        logger.info(f'UPDATE best_val_loss :{best_val_loss:.4f}')\n",
    "\n",
    "        \n",
    "    "
   ]
  },
  {
   "cell_type": "code",
   "execution_count": null,
   "metadata": {},
   "outputs": [],
   "source": [
    "logger.info(f'train :{train_loss}')\n",
    "logger.info(f'valid :{val_loss}')\n",
    "logger.info(f'train end')"
   ]
  }
 ],
 "metadata": {
  "kernelspec": {
   "display_name": "imagebind",
   "language": "python",
   "name": "python3"
  },
  "language_info": {
   "codemirror_mode": {
    "name": "ipython",
    "version": 3
   },
   "file_extension": ".py",
   "mimetype": "text/x-python",
   "name": "python",
   "nbconvert_exporter": "python",
   "pygments_lexer": "ipython3",
   "version": "3.8.19"
  }
 },
 "nbformat": 4,
 "nbformat_minor": 2
}
